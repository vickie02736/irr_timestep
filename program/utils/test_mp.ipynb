{
 "cells": [
  {
   "cell_type": "code",
   "execution_count": 1,
   "metadata": {},
   "outputs": [],
   "source": [
    "import torch.multiprocessing as mp\n",
    "import torch\n",
    "\n",
    "\n",
    "def mask_batch_subset(x_subset, mask_mtd, mask_ratio):\n",
    "    seq_lenth = len(x_subset[0])\n",
    "    num_mask = int(1 + mask_ratio * (seq_lenth - 2))\n",
    "    weights = torch.ones(x_subset.shape[1]).expand(x_subset.shape[0], -1)\n",
    "    idx = torch.multinomial(weights, num_mask, replacement=False)\n",
    "    if mask_mtd == \"zeros\":\n",
    "        masked_tensor = torch.zeros(x_subset.shape[2], x_subset.shape[3],\n",
    "                                    x_subset.shape[4]).to(x_subset.device)\n",
    "    elif mask_mtd == \"random\":\n",
    "        masked_tensor = torch.rand(x_subset.shape[2], x_subset.shape[3],\n",
    "                                   x_subset.shape[4]).to(x_subset.device)\n",
    "    batch_indices = torch.arange(x_subset.shape[0],\n",
    "                                 device=x_subset.device).unsqueeze(1).expand(\n",
    "                                     -1, num_mask)\n",
    "    x_subset[batch_indices, idx] = masked_tensor\n",
    "    return x_subset, idx\n",
    "\n",
    "\n",
    "def parallel_mask(x, mask_mtd=\"zeros\", test_flag=False, mask_ratio=None, num_processes=8):\n",
    "    if test_flag == False:\n",
    "        mask_ratio = torch.rand(1).item()\n",
    "\n",
    "    # Split the input tensor into subsets for each CPU\n",
    "    batch_size = x.shape[0]\n",
    "    subsets = torch.chunk(x, num_processes, dim=0)\n",
    "\n",
    "    # Prepare arguments for each process\n",
    "    args = [(subset, mask_mtd, mask_ratio) for subset in subsets]\n",
    "\n",
    "    # Use multiprocessing to parallelize the mask operation\n",
    "    with mp.Pool(processes=num_processes) as pool:\n",
    "        results = pool.starmap(mask_batch_subset, args)\n",
    "\n",
    "    # Combine the results back into the original shape\n",
    "    masked_subsets, indices = zip(*results)\n",
    "    masked_x = torch.cat(masked_subsets, dim=0)\n",
    "    \n",
    "    return masked_x, indices"
   ]
  },
  {
   "cell_type": "code",
   "execution_count": 2,
   "metadata": {},
   "outputs": [],
   "source": [
    "import time\n",
    "# Example usage:\n",
    "x = torch.rand(200, 10, 3, 224, 224)  # Example tensor [batchsize, sequence_length, channels, height, width]"
   ]
  },
  {
   "cell_type": "code",
   "execution_count": 3,
   "metadata": {},
   "outputs": [
    {
     "name": "stdout",
     "output_type": "stream",
     "text": [
      "Time consumed: 2.049285888671875 seconds\n"
     ]
    }
   ],
   "source": [
    "# Example usage:\n",
    "start_time = time.time()  # Start time measurement\n",
    "\n",
    "masked_x, indices = parallel_mask(x)  # Function call you want to measure\n",
    "\n",
    "end_time = time.time()  # End time measurement\n",
    "\n",
    "time_consumed = end_time - start_time  # Calculate the time difference\n",
    "\n",
    "print(f\"Time consumed: {time_consumed} seconds\")"
   ]
  },
  {
   "cell_type": "code",
   "execution_count": 4,
   "metadata": {},
   "outputs": [],
   "source": [
    "def mask(x, mask_mtd=\"zeros\", test_flag=False, mask_ratio=None):\n",
    "    seq_lenth = len(x[0])\n",
    "    if test_flag == False:\n",
    "        mask_ratio = torch.rand(1).item()\n",
    "    else:\n",
    "        mask_ratio = mask_ratio\n",
    "    num_mask = int(1 + mask_ratio * (seq_lenth - 2))\n",
    "    weights = torch.ones(x.shape[1]).expand(x.shape[0], -1)\n",
    "    idx = torch.multinomial(weights, num_mask, replacement=False)\n",
    "    if mask_mtd == \"zeros\":\n",
    "        masked_tensor = torch.zeros(x.shape[2], x.shape[3],\n",
    "                                    x.shape[4]).to(x.device)\n",
    "    elif mask_mtd == \"random\":\n",
    "        masked_tensor = torch.rand(x.shape[2], x.shape[3],\n",
    "                                   x.shape[4]).to(x.device)\n",
    "    batch_indices = torch.arange(x.shape[0],\n",
    "                                 device=x.device).unsqueeze(1).expand(\n",
    "                                     -1, num_mask)\n",
    "    x[batch_indices, idx] = masked_tensor\n",
    "    return x, idx"
   ]
  },
  {
   "cell_type": "code",
   "execution_count": 5,
   "metadata": {},
   "outputs": [
    {
     "name": "stdout",
     "output_type": "stream",
     "text": [
      "Time consumed: 0.01887226104736328 seconds\n"
     ]
    }
   ],
   "source": [
    "# Example usage:\n",
    "start_time = time.time()  # Start time measurement\n",
    "\n",
    "masked_x, indices = mask(x)  # Function call you want to measure\n",
    "\n",
    "end_time = time.time()  # End time measurement\n",
    "\n",
    "time_consumed = end_time - start_time  # Calculate the time difference\n",
    "\n",
    "print(f\"Time consumed: {time_consumed} seconds\")"
   ]
  }
 ],
 "metadata": {
  "kernelspec": {
   "display_name": "imae",
   "language": "python",
   "name": "python3"
  },
  "language_info": {
   "codemirror_mode": {
    "name": "ipython",
    "version": 3
   },
   "file_extension": ".py",
   "mimetype": "text/x-python",
   "name": "python",
   "nbconvert_exporter": "python",
   "pygments_lexer": "ipython3",
   "version": "3.9.18"
  }
 },
 "nbformat": 4,
 "nbformat_minor": 2
}
