{
 "cells": [
  {
   "cell_type": "code",
   "execution_count": 5,
   "metadata": {},
   "outputs": [],
   "source": [
    "sweep_config = {\n",
    "    'method': 'random',  # or 'grid', 'bayes'\n",
    "    'metric': {\n",
    "        'name': 'accuracy',\n",
    "        'goal': 'maximize'\n",
    "    },\n",
    "    'parameters': {\n",
    "        'learning_rate': {\n",
    "            'values': [0.01, 0.001, 0.0001]\n",
    "        },\n",
    "        'batch_size': {\n",
    "            'values': [16, 32, 64]\n",
    "        },\n",
    "        'epochs': {\n",
    "            'values': [5, 10, 20]\n",
    "        }\n",
    "    }\n",
    "}\n"
   ]
  },
  {
   "cell_type": "code",
   "execution_count": 6,
   "metadata": {},
   "outputs": [
    {
     "data": {
      "text/html": [
       "Tracking run with wandb version 0.17.0"
      ],
      "text/plain": [
       "<IPython.core.display.HTML object>"
      ]
     },
     "metadata": {},
     "output_type": "display_data"
    },
    {
     "data": {
      "text/html": [
       "Run data is saved locally in <code>/lustre/home/uceckz0/Project/imae/jobs/wandb/run-20240519_181836-mh28duva</code>"
      ],
      "text/plain": [
       "<IPython.core.display.HTML object>"
      ]
     },
     "metadata": {},
     "output_type": "display_data"
    },
    {
     "data": {
      "text/html": [
       "Syncing run <strong><a href='https://wandb.ai/vickie02736/your-project-name/runs/mh28duva' target=\"_blank\">sweet-eon-1</a></strong> to <a href='https://wandb.ai/vickie02736/your-project-name' target=\"_blank\">Weights & Biases</a> (<a href='https://wandb.me/run' target=\"_blank\">docs</a>)<br/>"
      ],
      "text/plain": [
       "<IPython.core.display.HTML object>"
      ]
     },
     "metadata": {},
     "output_type": "display_data"
    },
    {
     "data": {
      "text/html": [
       " View project at <a href='https://wandb.ai/vickie02736/your-project-name' target=\"_blank\">https://wandb.ai/vickie02736/your-project-name</a>"
      ],
      "text/plain": [
       "<IPython.core.display.HTML object>"
      ]
     },
     "metadata": {},
     "output_type": "display_data"
    },
    {
     "data": {
      "text/html": [
       " View run at <a href='https://wandb.ai/vickie02736/your-project-name/runs/mh28duva' target=\"_blank\">https://wandb.ai/vickie02736/your-project-name/runs/mh28duva</a>"
      ],
      "text/plain": [
       "<IPython.core.display.HTML object>"
      ]
     },
     "metadata": {},
     "output_type": "display_data"
    },
    {
     "name": "stdout",
     "output_type": "stream",
     "text": [
      "Create sweep with ID: ftdoknyt\n",
      "Sweep URL: https://wandb.ai/vickie02736/your-project-name/sweeps/ftdoknyt\n"
     ]
    }
   ],
   "source": [
    "import wandb\n",
    "\n",
    "# Initialize wandb\n",
    "wandb.init(project='your-project-name')\n",
    "\n",
    "# Create sweep\n",
    "sweep_id = wandb.sweep(sweep_config, project='your-project-name')\n"
   ]
  },
  {
   "cell_type": "code",
   "execution_count": 7,
   "metadata": {},
   "outputs": [
    {
     "name": "stderr",
     "output_type": "stream",
     "text": [
      "\u001b[34m\u001b[1mwandb\u001b[0m: \u001b[33mWARNING\u001b[0m Calling wandb.login() after wandb.init() has no effect.\n"
     ]
    },
    {
     "name": "stdout",
     "output_type": "stream",
     "text": [
      "<IPython.core.display.HTML object>\n",
      "<IPython.core.display.HTML object>\n"
     ]
    }
   ],
   "source": [
    "import wandb\n",
    "import torch\n",
    "import torch.nn as nn\n",
    "import torch.optim as optim\n",
    "from torch.utils.data import DataLoader, TensorDataset\n",
    "\n",
    "# Sample dataset\n",
    "X_train = torch.randn(100, 10)\n",
    "y_train = torch.randint(0, 2, (100,))\n",
    "\n",
    "# Define a simple model\n",
    "class SimpleNN(nn.Module):\n",
    "    def __init__(self):\n",
    "        super(SimpleNN, self).__init__()\n",
    "        self.fc1 = nn.Linear(10, 50)\n",
    "        self.fc2 = nn.Linear(50, 2)\n",
    "\n",
    "    def forward(self, x):\n",
    "        x = torch.relu(self.fc1(x))\n",
    "        x = self.fc2(x)\n",
    "        return x\n",
    "\n",
    "def train(config=None):\n",
    "    with wandb.init(config=config):\n",
    "        config = wandb.config\n",
    "\n",
    "        # Set up data loader with batch size from config\n",
    "        train_loader = DataLoader(TensorDataset(X_train, y_train), batch_size=config.batch_size, shuffle=True)\n",
    "        \n",
    "        # Initialize the model, criterion, and optimizer with learning rate from config\n",
    "        model = SimpleNN()\n",
    "        criterion = nn.CrossEntropyLoss()\n",
    "        optimizer = optim.Adam(model.parameters(), lr=config.learning_rate)\n",
    "        \n",
    "        # Training loop\n",
    "        for epoch in range(config.epochs):\n",
    "            model.train()\n",
    "            for batch in train_loader:\n",
    "                inputs, labels = batch\n",
    "                optimizer.zero_grad()\n",
    "                outputs = model(inputs)\n",
    "                loss = criterion(outputs, labels)\n",
    "                loss.backward()\n",
    "                optimizer.step()\n",
    "            \n",
    "            # Evaluate model and log metrics\n",
    "            correct = 0\n",
    "            total = 0\n",
    "            model.eval()\n",
    "            with torch.no_grad():\n",
    "                for batch in train_loader:\n",
    "                    inputs, labels = batch\n",
    "                    outputs = model(inputs)\n",
    "                    _, predicted = torch.max(outputs.data, 1)\n",
    "                    total += labels.size(0)\n",
    "                    correct += (predicted == labels).sum().item()\n",
    "            accuracy = correct / total\n",
    "            wandb.log({'accuracy': accuracy, 'loss': loss.item()})\n",
    "\n",
    "# Step 5: Run the Sweep\n",
    "wandb.agent(sweep_id, function=train, count=10)"
   ]
  }
 ],
 "metadata": {
  "kernelspec": {
   "display_name": "imae",
   "language": "python",
   "name": "python3"
  },
  "language_info": {
   "codemirror_mode": {
    "name": "ipython",
    "version": 3
   },
   "file_extension": ".py",
   "mimetype": "text/x-python",
   "name": "python",
   "nbconvert_exporter": "python",
   "pygments_lexer": "ipython3",
   "version": "3.9.18"
  }
 },
 "nbformat": 4,
 "nbformat_minor": 2
}
